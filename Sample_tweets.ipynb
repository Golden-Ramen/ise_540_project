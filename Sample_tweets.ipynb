{
 "cells": [
  {
   "cell_type": "code",
   "execution_count": 1,
   "metadata": {},
   "outputs": [],
   "source": [
    "import pandas as pd"
   ]
  },
  {
   "cell_type": "code",
   "execution_count": 2,
   "metadata": {},
   "outputs": [],
   "source": [
    "def groupby(dataframe):\n",
    "    dt=dataframe.groupby('text',as_index=False).apply(lambda df:df.drop_duplicates('cluster')).reset_index()\n",
    "    dt1=dt[['cluster','text']]\n",
    "    return dt1"
   ]
  },
  {
   "cell_type": "code",
   "execution_count": 3,
   "metadata": {},
   "outputs": [],
   "source": [
    "def get_sample(dataframe):\n",
    "    dt_sample=dataframe.sample(n=10)\n",
    "    dt_sample.to_csv('/Users/Xiilz./Desktop/sample_clusters_lstm_pos_tweets.csv', columns=['cluster','text'], mode='a')\n",
    "    return dt_sample"
   ]
  },
  {
   "cell_type": "code",
   "execution_count": 4,
   "metadata": {},
   "outputs": [],
   "source": [
    "def main():\n",
    "    for i in clusters:\n",
    "        temp_df=df[df['cluster'].isin([i])]\n",
    "        dataframe=temp_df\n",
    "        dt=groupby(dataframe)\n",
    "        result=get_sample(dt)\n",
    "        return result"
   ]
  },
  {
   "cell_type": "code",
   "execution_count": 5,
   "metadata": {},
   "outputs": [],
   "source": [
    "c=[2,3,5]\n",
    "for i in c:\n",
    "    filename='/Users/Xiilz./Desktop/'+ str(i) + '_clusters_lstm_pos_tweets.csv'\n",
    "    df=pd.read_csv(filename,delimiter='\\t',header=None)\n",
    "    df.columns=['cluster','text']\n",
    "    clusters=df['cluster'].unique()  \n",
    "    for i in clusters:\n",
    "        temp_df=df[df['cluster'].isin([i])]\n",
    "        dataframe=temp_df\n",
    "        dt=groupby(dataframe)\n",
    "        get_sample(dt)"
   ]
  },
  {
   "cell_type": "code",
   "execution_count": null,
   "metadata": {},
   "outputs": [],
   "source": []
  }
 ],
 "metadata": {
  "kernelspec": {
   "display_name": "Python 3",
   "language": "python",
   "name": "python3"
  },
  "language_info": {
   "codemirror_mode": {
    "name": "ipython",
    "version": 3
   },
   "file_extension": ".py",
   "mimetype": "text/x-python",
   "name": "python",
   "nbconvert_exporter": "python",
   "pygments_lexer": "ipython3",
   "version": "3.7.4"
  }
 },
 "nbformat": 4,
 "nbformat_minor": 2
}
